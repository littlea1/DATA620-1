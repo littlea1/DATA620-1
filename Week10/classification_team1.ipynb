{
 "cells": [
  {
   "cell_type": "markdown",
   "metadata": {},
   "source": [
    "#### Assignment: Document Classification\n",
    "##### Data 620, \n",
    "###### Team 1: Jason Givens-Doyle, Mehdi Khan, Paul Britton\n",
    "\n",
    "Video link: https://youtu.be/Z_9_WaXEx34\n"
   ]
  },
  {
   "cell_type": "markdown",
   "metadata": {},
   "source": [
    "##### The assignment:\n",
    "It can be useful to be able to classify new \"test\" documents using already classified \"training\" documents.  A common example is using a corpus of labeled spam and ham (non-spam) e-mails to predict whether or not a new document is spam.  Here is one example of such data:  http://archive.ics.uci.edu/ml/datasets/Spambase\n",
    "\n",
    "For this project, you can either use the above dataset to predict the class of new documents (either withheld from the training dataset or from another source such as your own spam folder).\n",
    "\n",
    "For more adventurous students, you are welcome (encouraged!) to come up a different set of documents (including scraped web pages!?) that have already been classified (e.g. tagged), then analyze these documents to predict how new documents should be classified."
   ]
  },
  {
   "cell_type": "markdown",
   "metadata": {},
   "source": [
    "##### Solution:\n",
    "The Data: The project used data downloaded from  Dataturks (https://dataturks.com/) that were collected to  explore cyber-bullying through email, messaging etc. The dataset has 20001 texts or messages, each of which were tagged by '1' or '0' indicating offensive or normal messages respectively. The downloaded document was a text file with each line representing a text/message in json (python dictionary) format."
   ]
  },
  {
   "cell_type": "code",
   "execution_count": 1,
   "metadata": {},
   "outputs": [],
   "source": [
    "import pandas as pd\n",
    "from nltk.tokenize import word_tokenize\n",
    "from nltk.tokenize import RegexpTokenizer\n",
    "from nltk.corpus import stopwords\n",
    "import requests\n",
    "import json\n",
    "from sklearn.feature_extraction.text import TfidfVectorizer, CountVectorizer,  TfidfTransformer\n",
    "from sklearn.model_selection import train_test_split\n",
    "from sklearn import metrics\n",
    "\n"
   ]
  },
  {
   "cell_type": "markdown",
   "metadata": {},
   "source": [
    "Since each line was in json format, json.loads were used to get the data in python environment. Then a dataframe was created from the data with two columns containing the messages and the tags (Label):"
   ]
  },
  {
   "cell_type": "code",
   "execution_count": 2,
   "metadata": {},
   "outputs": [
    {
     "data": {
      "text/html": [
       "<div>\n",
       "<style scoped>\n",
       "    .dataframe tbody tr th:only-of-type {\n",
       "        vertical-align: middle;\n",
       "    }\n",
       "\n",
       "    .dataframe tbody tr th {\n",
       "        vertical-align: top;\n",
       "    }\n",
       "\n",
       "    .dataframe thead th {\n",
       "        text-align: right;\n",
       "    }\n",
       "</style>\n",
       "<table border=\"1\" class=\"dataframe\">\n",
       "  <thead>\n",
       "    <tr style=\"text-align: right;\">\n",
       "      <th></th>\n",
       "      <th>content</th>\n",
       "      <th>Label</th>\n",
       "    </tr>\n",
       "  </thead>\n",
       "  <tbody>\n",
       "    <tr>\n",
       "      <th>0</th>\n",
       "      <td>Get fucking real dude.</td>\n",
       "      <td>1</td>\n",
       "    </tr>\n",
       "    <tr>\n",
       "      <th>1</th>\n",
       "      <td>She is as dirty as they come  and that crook R...</td>\n",
       "      <td>1</td>\n",
       "    </tr>\n",
       "    <tr>\n",
       "      <th>2</th>\n",
       "      <td>why did you fuck it up. I could do it all day ...</td>\n",
       "      <td>1</td>\n",
       "    </tr>\n",
       "    <tr>\n",
       "      <th>3</th>\n",
       "      <td>Dude they dont finish enclosing the fucking sh...</td>\n",
       "      <td>1</td>\n",
       "    </tr>\n",
       "    <tr>\n",
       "      <th>4</th>\n",
       "      <td>WTF are you talking about Men? No men thats no...</td>\n",
       "      <td>1</td>\n",
       "    </tr>\n",
       "  </tbody>\n",
       "</table>\n",
       "</div>"
      ],
      "text/plain": [
       "                                             content Label\n",
       "0                             Get fucking real dude.     1\n",
       "1  She is as dirty as they come  and that crook R...     1\n",
       "2  why did you fuck it up. I could do it all day ...     1\n",
       "3  Dude they dont finish enclosing the fucking sh...     1\n",
       "4  WTF are you talking about Men? No men thats no...     1"
      ]
     },
     "execution_count": 2,
     "metadata": {},
     "output_type": "execute_result"
    }
   ],
   "source": [
    "with open('Cyber-Trolls.txt', 'r')as f:\n",
    "        dataset = [line.strip() for line in f]\n",
    "   \n",
    "d = [json.loads(dictobject) for dictobject in dataset]\n",
    "df = pd.DataFrame(d)\n",
    "df.drop([\"extras\",\"metadata\"], axis=1, inplace=True)\n",
    "lbl= [d.get('label')[0] for d in df[df.columns[0]]]\n",
    "df['Label']=lbl\n",
    "df.drop([\"annotation\"], inplace=True,axis=1)\n",
    "df.head()"
   ]
  },
  {
   "cell_type": "markdown",
   "metadata": {},
   "source": [
    "#### Data Exploration"
   ]
  },
  {
   "cell_type": "code",
   "execution_count": 3,
   "metadata": {},
   "outputs": [
    {
     "data": {
      "text/html": [
       "<div>\n",
       "<style scoped>\n",
       "    .dataframe tbody tr th:only-of-type {\n",
       "        vertical-align: middle;\n",
       "    }\n",
       "\n",
       "    .dataframe tbody tr th {\n",
       "        vertical-align: top;\n",
       "    }\n",
       "\n",
       "    .dataframe thead tr th {\n",
       "        text-align: left;\n",
       "    }\n",
       "\n",
       "    .dataframe thead tr:last-of-type th {\n",
       "        text-align: right;\n",
       "    }\n",
       "</style>\n",
       "<table border=\"1\" class=\"dataframe\">\n",
       "  <thead>\n",
       "    <tr>\n",
       "      <th></th>\n",
       "      <th colspan=\"4\" halign=\"left\">content</th>\n",
       "    </tr>\n",
       "    <tr>\n",
       "      <th></th>\n",
       "      <th>count</th>\n",
       "      <th>unique</th>\n",
       "      <th>top</th>\n",
       "      <th>freq</th>\n",
       "    </tr>\n",
       "    <tr>\n",
       "      <th>Label</th>\n",
       "      <th></th>\n",
       "      <th></th>\n",
       "      <th></th>\n",
       "      <th></th>\n",
       "    </tr>\n",
       "  </thead>\n",
       "  <tbody>\n",
       "    <tr>\n",
       "      <th>0</th>\n",
       "      <td>12179</td>\n",
       "      <td>11853</td>\n",
       "      <td>nope</td>\n",
       "      <td>21</td>\n",
       "    </tr>\n",
       "    <tr>\n",
       "      <th>1</th>\n",
       "      <td>7822</td>\n",
       "      <td>2789</td>\n",
       "      <td>#NAME?</td>\n",
       "      <td>18</td>\n",
       "    </tr>\n",
       "  </tbody>\n",
       "</table>\n",
       "</div>"
      ],
      "text/plain": [
       "      content                    \n",
       "        count unique     top freq\n",
       "Label                            \n",
       "0       12179  11853    nope   21\n",
       "1        7822   2789  #NAME?   18"
      ]
     },
     "execution_count": 3,
     "metadata": {},
     "output_type": "execute_result"
    }
   ],
   "source": [
    "df.groupby('Label').describe()"
   ]
  },
  {
   "cell_type": "markdown",
   "metadata": {},
   "source": [
    "The above table shows that there are 12,179 messages that were not considered offensive while 7,822 messages were offensive. The most frequent words in both categories do not seem to carry any special meaning toward those two categories. One interesting finding is that there are lesser number of unique words in the offensive messages indicating that same words were used to offend people. "
   ]
  },
  {
   "cell_type": "code",
   "execution_count": 4,
   "metadata": {},
   "outputs": [
    {
     "data": {
      "text/html": [
       "<div>\n",
       "<style scoped>\n",
       "    .dataframe tbody tr th:only-of-type {\n",
       "        vertical-align: middle;\n",
       "    }\n",
       "\n",
       "    .dataframe tbody tr th {\n",
       "        vertical-align: top;\n",
       "    }\n",
       "\n",
       "    .dataframe thead th {\n",
       "        text-align: right;\n",
       "    }\n",
       "</style>\n",
       "<table border=\"1\" class=\"dataframe\">\n",
       "  <thead>\n",
       "    <tr style=\"text-align: right;\">\n",
       "      <th></th>\n",
       "      <th></th>\n",
       "      <th></th>\n",
       "    </tr>\n",
       "  </thead>\n",
       "  <tbody>\n",
       "    <tr>\n",
       "      <th>0</th>\n",
       "      <td>Avg. length of normal text:</td>\n",
       "      <td>64.96</td>\n",
       "    </tr>\n",
       "    <tr>\n",
       "      <th>1</th>\n",
       "      <td>Avg. length of offensive text:</td>\n",
       "      <td>70.78</td>\n",
       "    </tr>\n",
       "  </tbody>\n",
       "</table>\n",
       "</div>"
      ],
      "text/plain": [
       "                                        \n",
       "0     Avg. length of normal text:  64.96\n",
       "1  Avg. length of offensive text:  70.78"
      ]
     },
     "execution_count": 4,
     "metadata": {},
     "output_type": "execute_result"
    }
   ],
   "source": [
    "table = pd.DataFrame([['Avg. length of normal text:',\n",
    "                       round(df.loc[df.Label=='0','content'].apply(len).mean(),2)],\n",
    "                      ['Avg. length of offensive text:',\n",
    "                       round(df.loc[df.Label=='1','content'].apply(len).mean(),2)]])\n",
    "table.columns=['']*len(table.columns)\n",
    "table"
   ]
  },
  {
   "cell_type": "markdown",
   "metadata": {},
   "source": [
    "From the above table suggests average length of offensive messages is a bit higher than that of normal messages, so message length may not be an indicator of offensive or non offensive texts."
   ]
  },
  {
   "cell_type": "markdown",
   "metadata": {},
   "source": [
    "#### Text Pre- processing \n",
    "All the messages were tokenized i.e. each of the messages were split into individual words i.e. each of the texts were represented as a set of words. The punctuation were also removed from each of texts. Regular expression and tokenize from nltk library were used on the content column of the dataframe to achieve both."
   ]
  },
  {
   "cell_type": "code",
   "execution_count": 5,
   "metadata": {},
   "outputs": [
    {
     "data": {
      "text/html": [
       "<div>\n",
       "<style scoped>\n",
       "    .dataframe tbody tr th:only-of-type {\n",
       "        vertical-align: middle;\n",
       "    }\n",
       "\n",
       "    .dataframe tbody tr th {\n",
       "        vertical-align: top;\n",
       "    }\n",
       "\n",
       "    .dataframe thead th {\n",
       "        text-align: right;\n",
       "    }\n",
       "</style>\n",
       "<table border=\"1\" class=\"dataframe\">\n",
       "  <thead>\n",
       "    <tr style=\"text-align: right;\">\n",
       "      <th></th>\n",
       "      <th>content</th>\n",
       "      <th>Label</th>\n",
       "    </tr>\n",
       "  </thead>\n",
       "  <tbody>\n",
       "    <tr>\n",
       "      <th>0</th>\n",
       "      <td>[Get, fucking, real, dude]</td>\n",
       "      <td>1</td>\n",
       "    </tr>\n",
       "    <tr>\n",
       "      <th>1</th>\n",
       "      <td>[She, is, as, dirty, as, they, come, and, that...</td>\n",
       "      <td>1</td>\n",
       "    </tr>\n",
       "    <tr>\n",
       "      <th>2</th>\n",
       "      <td>[why, did, you, fuck, it, up, I, could, do, it...</td>\n",
       "      <td>1</td>\n",
       "    </tr>\n",
       "    <tr>\n",
       "      <th>3</th>\n",
       "      <td>[Dude, they, dont, finish, enclosing, the, fuc...</td>\n",
       "      <td>1</td>\n",
       "    </tr>\n",
       "    <tr>\n",
       "      <th>4</th>\n",
       "      <td>[WTF, are, you, talking, about, Men, No, men, ...</td>\n",
       "      <td>1</td>\n",
       "    </tr>\n",
       "  </tbody>\n",
       "</table>\n",
       "</div>"
      ],
      "text/plain": [
       "                                             content Label\n",
       "0                         [Get, fucking, real, dude]     1\n",
       "1  [She, is, as, dirty, as, they, come, and, that...     1\n",
       "2  [why, did, you, fuck, it, up, I, could, do, it...     1\n",
       "3  [Dude, they, dont, finish, enclosing, the, fuc...     1\n",
       "4  [WTF, are, you, talking, about, Men, No, men, ...     1"
      ]
     },
     "execution_count": 5,
     "metadata": {},
     "output_type": "execute_result"
    }
   ],
   "source": [
    "tokenizer = RegexpTokenizer(r'\\w+')\n",
    "df['content']=df.content.apply(tokenizer.tokenize)\n",
    "df.head()"
   ]
  },
  {
   "cell_type": "markdown",
   "metadata": {},
   "source": [
    "The common words such as 'the', 'a', 'are' etc. that are not useful but occur frequently were also removed using stopwards from nltk package "
   ]
  },
  {
   "cell_type": "code",
   "execution_count": 6,
   "metadata": {},
   "outputs": [
    {
     "data": {
      "text/html": [
       "<div>\n",
       "<style scoped>\n",
       "    .dataframe tbody tr th:only-of-type {\n",
       "        vertical-align: middle;\n",
       "    }\n",
       "\n",
       "    .dataframe tbody tr th {\n",
       "        vertical-align: top;\n",
       "    }\n",
       "\n",
       "    .dataframe thead th {\n",
       "        text-align: right;\n",
       "    }\n",
       "</style>\n",
       "<table border=\"1\" class=\"dataframe\">\n",
       "  <thead>\n",
       "    <tr style=\"text-align: right;\">\n",
       "      <th></th>\n",
       "      <th>content</th>\n",
       "      <th>Label</th>\n",
       "    </tr>\n",
       "  </thead>\n",
       "  <tbody>\n",
       "    <tr>\n",
       "      <th>0</th>\n",
       "      <td>[Get, fucking, real, dude]</td>\n",
       "      <td>1</td>\n",
       "    </tr>\n",
       "    <tr>\n",
       "      <th>1</th>\n",
       "      <td>[dirty, come, crook, Rengel, Dems, fucking, co...</td>\n",
       "      <td>1</td>\n",
       "    </tr>\n",
       "    <tr>\n",
       "      <th>2</th>\n",
       "      <td>[fuck, could, day, Let, hour, Ping, later, sch...</td>\n",
       "      <td>1</td>\n",
       "    </tr>\n",
       "    <tr>\n",
       "      <th>3</th>\n",
       "      <td>[Dude, dont, finish, enclosing, fucking, showe...</td>\n",
       "      <td>1</td>\n",
       "    </tr>\n",
       "    <tr>\n",
       "      <th>4</th>\n",
       "      <td>[WTF, talking, Men, men, thats, menage, gay]</td>\n",
       "      <td>1</td>\n",
       "    </tr>\n",
       "  </tbody>\n",
       "</table>\n",
       "</div>"
      ],
      "text/plain": [
       "                                             content Label\n",
       "0                         [Get, fucking, real, dude]     1\n",
       "1  [dirty, come, crook, Rengel, Dems, fucking, co...     1\n",
       "2  [fuck, could, day, Let, hour, Ping, later, sch...     1\n",
       "3  [Dude, dont, finish, enclosing, fucking, showe...     1\n",
       "4       [WTF, talking, Men, men, thats, menage, gay]     1"
      ]
     },
     "execution_count": 6,
     "metadata": {},
     "output_type": "execute_result"
    }
   ],
   "source": [
    "def remove_stopwords(txt):\n",
    "    removed = [word for word in txt if word.lower() not in stopwords.words('english')] \n",
    "    return removed\n",
    "\n",
    "df['content']=df.content.apply(remove_stopwords)\n",
    "df.head()"
   ]
  },
  {
   "cell_type": "markdown",
   "metadata": {},
   "source": [
    "#### Vectorization\n",
    "Vectorization is a process that converts text into numbers. So far each of the texts (messages) were converted into a list of tokens (words). The vectorization is needed to represent these texts in ML algorithms. There are multiple ways to do vectorization and some combination of which will be used here:\n",
    "\n",
    "1. Term Document Matrix or term frequency: Counting the number of times each word appears in a document\n",
    "2. TF-IDF (Term Frequency-Inverse Document Frequency): Weighting the frequency to asses relative importance of a term in the document and the entire corpus\n",
    "\n",
    "TF(t) = (Number of times term t appears in a document) / (Total number of terms in the document)\n",
    "IDF(t) = log_e(Total number of documents / Number of documents with term t in it)\n",
    "\n",
    "TF-IDF Vectors can be generated at words, characters, or n-grams levels. Only word level will be applied here.\n"
   ]
  },
  {
   "cell_type": "markdown",
   "metadata": {},
   "source": [
    "Before vectorization was done, two sets of data were created to train and test classification models, the rows were selected randomly so that both datasets have reasonable numbers of offensive and non offensive messages:"
   ]
  },
  {
   "cell_type": "code",
   "execution_count": 7,
   "metadata": {},
   "outputs": [],
   "source": [
    "df['content'] = [\" \".join(con) for con in df['content'].values]\n",
    "df_train = df.sample(frac=.8, random_state=100).reset_index(drop=True)\n",
    "df_test = df.drop(df_train.index).sample(frac=1).reset_index(drop=True)"
   ]
  },
  {
   "cell_type": "code",
   "execution_count": 8,
   "metadata": {},
   "outputs": [
    {
     "data": {
      "text/html": [
       "<div>\n",
       "<style scoped>\n",
       "    .dataframe tbody tr th:only-of-type {\n",
       "        vertical-align: middle;\n",
       "    }\n",
       "\n",
       "    .dataframe tbody tr th {\n",
       "        vertical-align: top;\n",
       "    }\n",
       "\n",
       "    .dataframe thead th {\n",
       "        text-align: right;\n",
       "    }\n",
       "</style>\n",
       "<table border=\"1\" class=\"dataframe\">\n",
       "  <thead>\n",
       "    <tr style=\"text-align: right;\">\n",
       "      <th></th>\n",
       "      <th>content</th>\n",
       "      <th>Label</th>\n",
       "    </tr>\n",
       "  </thead>\n",
       "  <tbody>\n",
       "    <tr>\n",
       "      <th>0</th>\n",
       "      <td>anyone said Arial gonna beat ass</td>\n",
       "      <td>1</td>\n",
       "    </tr>\n",
       "    <tr>\n",
       "      <th>1</th>\n",
       "      <td>Hahaha Well take care would hate lose homeland...</td>\n",
       "      <td>1</td>\n",
       "    </tr>\n",
       "    <tr>\n",
       "      <th>2</th>\n",
       "      <td>filipina foreigner</td>\n",
       "      <td>0</td>\n",
       "    </tr>\n",
       "    <tr>\n",
       "      <th>3</th>\n",
       "      <td>hope singing along hate think torturing poor l...</td>\n",
       "      <td>1</td>\n",
       "    </tr>\n",
       "    <tr>\n",
       "      <th>4</th>\n",
       "      <td>Duck tape fixes everything</td>\n",
       "      <td>0</td>\n",
       "    </tr>\n",
       "    <tr>\n",
       "      <th>5</th>\n",
       "      <td>says gubgivits teeth thingies stole blood ever...</td>\n",
       "      <td>1</td>\n",
       "    </tr>\n",
       "    <tr>\n",
       "      <th>6</th>\n",
       "      <td>sucks</td>\n",
       "      <td>1</td>\n",
       "    </tr>\n",
       "    <tr>\n",
       "      <th>7</th>\n",
       "      <td>N3qRO WUZZ YA NUMBER</td>\n",
       "      <td>0</td>\n",
       "    </tr>\n",
       "  </tbody>\n",
       "</table>\n",
       "</div>"
      ],
      "text/plain": [
       "                                             content Label\n",
       "0                   anyone said Arial gonna beat ass     1\n",
       "1  Hahaha Well take care would hate lose homeland...     1\n",
       "2                                 filipina foreigner     0\n",
       "3  hope singing along hate think torturing poor l...     1\n",
       "4                         Duck tape fixes everything     0\n",
       "5  says gubgivits teeth thingies stole blood ever...     1\n",
       "6                                              sucks     1\n",
       "7                               N3qRO WUZZ YA NUMBER     0"
      ]
     },
     "execution_count": 8,
     "metadata": {},
     "output_type": "execute_result"
    }
   ],
   "source": [
    "df_train.head(8)"
   ]
  },
  {
   "cell_type": "code",
   "execution_count": 9,
   "metadata": {},
   "outputs": [
    {
     "data": {
      "text/html": [
       "<div>\n",
       "<style scoped>\n",
       "    .dataframe tbody tr th:only-of-type {\n",
       "        vertical-align: middle;\n",
       "    }\n",
       "\n",
       "    .dataframe tbody tr th {\n",
       "        vertical-align: top;\n",
       "    }\n",
       "\n",
       "    .dataframe thead th {\n",
       "        text-align: right;\n",
       "    }\n",
       "</style>\n",
       "<table border=\"1\" class=\"dataframe\">\n",
       "  <thead>\n",
       "    <tr style=\"text-align: right;\">\n",
       "      <th></th>\n",
       "      <th>content</th>\n",
       "      <th>Label</th>\n",
       "    </tr>\n",
       "  </thead>\n",
       "  <tbody>\n",
       "    <tr>\n",
       "      <th>0</th>\n",
       "      <td>okay seen long time</td>\n",
       "      <td>0</td>\n",
       "    </tr>\n",
       "    <tr>\n",
       "      <th>1</th>\n",
       "      <td>OKay Hope everything goes okay</td>\n",
       "      <td>0</td>\n",
       "    </tr>\n",
       "    <tr>\n",
       "      <th>2</th>\n",
       "      <td>would found 100 movie theater</td>\n",
       "      <td>0</td>\n",
       "    </tr>\n",
       "    <tr>\n",
       "      <th>3</th>\n",
       "      <td>Wow really persistent</td>\n",
       "      <td>0</td>\n",
       "    </tr>\n",
       "    <tr>\n",
       "      <th>4</th>\n",
       "      <td>yuh stalkers</td>\n",
       "      <td>0</td>\n",
       "    </tr>\n",
       "  </tbody>\n",
       "</table>\n",
       "</div>"
      ],
      "text/plain": [
       "                          content Label\n",
       "0             okay seen long time     0\n",
       "1  OKay Hope everything goes okay     0\n",
       "2   would found 100 movie theater     0\n",
       "3           Wow really persistent     0\n",
       "4                    yuh stalkers     0"
      ]
     },
     "execution_count": 9,
     "metadata": {},
     "output_type": "execute_result"
    }
   ],
   "source": [
    "df_test.head()"
   ]
  },
  {
   "cell_type": "markdown",
   "metadata": {},
   "source": [
    "##### Train data prepration:"
   ]
  },
  {
   "cell_type": "code",
   "execution_count": 10,
   "metadata": {},
   "outputs": [],
   "source": [
    "bag_of_words = CountVectorizer()\n",
    "# ignore terms that appear in more than 50% of the documents\n",
    "#bag_of_words.set_params(max_df=0.5)\n",
    "bag_of_words_fit = bag_of_words.fit(df_train['content'])\n"
   ]
  },
  {
   "cell_type": "code",
   "execution_count": 11,
   "metadata": {},
   "outputs": [
    {
     "name": "stdout",
     "output_type": "stream",
     "text": [
      "  (0, 1792)\t2\n",
      "  (0, 4575)\t1\n",
      "  (0, 5873)\t1\n",
      "  (0, 8744)\t1\n",
      "  (0, 11513)\t1\n",
      "  (0, 12052)\t1\n",
      "  (0, 12634)\t1\n",
      "  (0, 12691)\t1\n",
      "  (0, 12848)\t1\n",
      "  (0, 13196)\t1\n",
      "  (0, 13364)\t1\n"
     ]
    }
   ],
   "source": [
    "tdm_train = bag_of_words_fit.transform(df_train['content'])\n",
    "print(tdm_train[5])"
   ]
  },
  {
   "cell_type": "markdown",
   "metadata": {},
   "source": [
    "Term weighting:"
   ]
  },
  {
   "cell_type": "code",
   "execution_count": 12,
   "metadata": {},
   "outputs": [
    {
     "data": {
      "text/plain": [
       "(16001, 15182)"
      ]
     },
     "execution_count": 12,
     "metadata": {},
     "output_type": "execute_result"
    }
   ],
   "source": [
    "tfidf_fit_train = TfidfTransformer().fit(tdm_train)\n",
    "tfidf_train = tfidf_fit_train.transform(tdm_train)\n",
    "tfidf_train.shape"
   ]
  },
  {
   "cell_type": "code",
   "execution_count": 13,
   "metadata": {},
   "outputs": [
    {
     "data": {
      "text/plain": [
       "<16001x15182 sparse matrix of type '<class 'numpy.float64'>'\n",
       "\twith 109406 stored elements in Compressed Sparse Row format>"
      ]
     },
     "execution_count": 13,
     "metadata": {},
     "output_type": "execute_result"
    }
   ],
   "source": [
    "tfidf_train"
   ]
  },
  {
   "cell_type": "markdown",
   "metadata": {},
   "source": [
    "##### Test data prepration:"
   ]
  },
  {
   "cell_type": "code",
   "execution_count": 14,
   "metadata": {},
   "outputs": [
    {
     "data": {
      "text/plain": [
       "(4000, 15182)"
      ]
     },
     "execution_count": 14,
     "metadata": {},
     "output_type": "execute_result"
    }
   ],
   "source": [
    "#bag_of_words_test = CountVectorizer()\n",
    "# ignore terms that appear in more than 50% of the documents\n",
    "#bag_of_words_test.set_params(max_df=0.5)\n",
    "#bag_of_words_test.fit(df_test['content'])\n",
    "\n",
    "tdm_test =bag_of_words.transform(df_test['content'])\n",
    "tdm_test.shape\n"
   ]
  },
  {
   "cell_type": "code",
   "execution_count": 15,
   "metadata": {},
   "outputs": [
    {
     "name": "stdout",
     "output_type": "stream",
     "text": [
      "  (0, 4804)\t1\n",
      "  (0, 5968)\t1\n",
      "  (0, 6725)\t1\n"
     ]
    }
   ],
   "source": [
    "print(tdm_test[5])"
   ]
  },
  {
   "cell_type": "code",
   "execution_count": 16,
   "metadata": {},
   "outputs": [
    {
     "data": {
      "text/plain": [
       "(4000, 15182)"
      ]
     },
     "execution_count": 16,
     "metadata": {},
     "output_type": "execute_result"
    }
   ],
   "source": [
    "tfidf_fit_test = TfidfTransformer().fit(tdm_test)\n",
    "tfidf_test = tfidf_fit_test.transform(tdm_test)\n",
    "tfidf_test.shape\n"
   ]
  },
  {
   "cell_type": "code",
   "execution_count": 17,
   "metadata": {},
   "outputs": [
    {
     "data": {
      "text/plain": [
       "<4000x15182 sparse matrix of type '<class 'numpy.float64'>'\n",
       "\twith 18540 stored elements in Compressed Sparse Row format>"
      ]
     },
     "execution_count": 17,
     "metadata": {},
     "output_type": "execute_result"
    }
   ],
   "source": [
    "tfidf_test"
   ]
  },
  {
   "cell_type": "markdown",
   "metadata": {},
   "source": [
    "### Model Building:\n",
    "\n",
    "Next we examine various different classifier models in the context of this data."
   ]
  },
  {
   "cell_type": "markdown",
   "metadata": {},
   "source": [
    "###### Naive Bayes Model:"
   ]
  },
  {
   "cell_type": "code",
   "execution_count": 18,
   "metadata": {},
   "outputs": [],
   "source": [
    "from sklearn.naive_bayes import MultinomialNB\n",
    "online_troll_model_NB = MultinomialNB().fit(tfidf_train,df_train['Label'])"
   ]
  },
  {
   "cell_type": "markdown",
   "metadata": {},
   "source": [
    "Prediting Label for test dataset using the model:"
   ]
  },
  {
   "cell_type": "code",
   "execution_count": 19,
   "metadata": {},
   "outputs": [],
   "source": [
    "\n",
    "predicted_label = online_troll_model_NB.predict(tfidf_test)\n"
   ]
  },
  {
   "cell_type": "markdown",
   "metadata": {},
   "source": [
    "##### Accuracy test:"
   ]
  },
  {
   "cell_type": "code",
   "execution_count": 20,
   "metadata": {},
   "outputs": [
    {
     "data": {
      "text/plain": [
       "0.98775"
      ]
     },
     "execution_count": 20,
     "metadata": {},
     "output_type": "execute_result"
    }
   ],
   "source": [
    "metrics.accuracy_score(df_test['Label'], predicted_label)"
   ]
  },
  {
   "cell_type": "markdown",
   "metadata": {},
   "source": [
    "The naive bayes model showed almost 99% accuracy, which is impressive"
   ]
  },
  {
   "cell_type": "markdown",
   "metadata": {},
   "source": [
    "###### Random Forest Model:\n",
    "\n",
    "Here we explore the train_test_split function in sklearn:"
   ]
  },
  {
   "cell_type": "code",
   "execution_count": 21,
   "metadata": {},
   "outputs": [
    {
     "name": "stdout",
     "output_type": "stream",
     "text": [
      "Random Forest Accuracy: 0.8386935510748209\n"
     ]
    }
   ],
   "source": [
    "from sklearn.ensemble import RandomForestClassifier\n",
    "\n",
    "tfidf =  bag_of_words.fit_transform(df['content'])\n",
    "\n",
    "X_train,X_test,y_train,y_test = train_test_split(tfidf,df['Label'],test_size=0.3,random_state=42)\n",
    "\n",
    "online_troll_model_RF = RandomForestClassifier().fit(X_train,y_train)\n",
    "predicted= online_troll_model_RF.predict(X_test)\n",
    "print(\"Random Forest Accuracy:\",metrics.accuracy_score(y_test, predicted))"
   ]
  },
  {
   "cell_type": "markdown",
   "metadata": {},
   "source": [
    "The random forest model substantially under-performs the naive bayes test\n",
    "\n",
    "###### K-Nearest-Neighbors Model:"
   ]
  },
  {
   "cell_type": "code",
   "execution_count": 22,
   "metadata": {},
   "outputs": [
    {
     "name": "stdout",
     "output_type": "stream",
     "text": [
      "KNN Accuracy: 0.6978836860523246\n"
     ]
    }
   ],
   "source": [
    "from sklearn.neighbors import KNeighborsClassifier\n",
    "\n",
    "tfidf =  bag_of_words.fit_transform(df['content'])\n",
    "\n",
    "online_troll_model_KNN = KNeighborsClassifier().fit(X_train,y_train)\n",
    "predicted= online_troll_model_KNN.predict(X_test)\n",
    "print(\"KNN Accuracy:\",metrics.accuracy_score(y_test, predicted))"
   ]
  },
  {
   "cell_type": "markdown",
   "metadata": {},
   "source": [
    "The KNN model substantially underperforms both the Naive Bayes and Random Forest models\n",
    "\n",
    "###### SVM  Model:"
   ]
  },
  {
   "cell_type": "code",
   "execution_count": 23,
   "metadata": {},
   "outputs": [
    {
     "name": "stdout",
     "output_type": "stream",
     "text": [
      "SVM Accuracy: 0.6108981836360606\n"
     ]
    }
   ],
   "source": [
    "from sklearn.svm import SVC\n",
    "\n",
    "online_troll_model_SVM = SVC().fit(X_train,y_train)\n",
    "predicted= online_troll_model_SVM.predict(X_test)\n",
    "print(\"SVM Accuracy:\",metrics.accuracy_score(y_test, predicted))\n"
   ]
  },
  {
   "cell_type": "markdown",
   "metadata": {},
   "source": [
    "Once again, the SVM model substantially underperforms the first model attempted\n",
    "\n",
    "###### AdaBoost  Model:"
   ]
  },
  {
   "cell_type": "code",
   "execution_count": 24,
   "metadata": {},
   "outputs": [
    {
     "name": "stdout",
     "output_type": "stream",
     "text": [
      "AdaBoost Accuracy: 0.6868855190801533\n"
     ]
    }
   ],
   "source": [
    "from sklearn.ensemble import AdaBoostClassifier\n",
    "\n",
    "online_troll_model_ADA = AdaBoostClassifier().fit(X_train,y_train)\n",
    "predicted= online_troll_model_ADA.predict(X_test)\n",
    "print(\"AdaBoost Accuracy:\",metrics.accuracy_score(y_test, predicted))\n"
   ]
  },
  {
   "cell_type": "markdown",
   "metadata": {},
   "source": [
    "The adaboost model also underperforms the  Naive Bayes as well\n",
    "\n",
    "###### GradientBoost  Model:"
   ]
  },
  {
   "cell_type": "code",
   "execution_count": 25,
   "metadata": {},
   "outputs": [
    {
     "name": "stdout",
     "output_type": "stream",
     "text": [
      "SVM Accuracy: 0.6922179636727213\n"
     ]
    }
   ],
   "source": [
    "from sklearn.ensemble import GradientBoostingClassifier\n",
    "\n",
    "online_troll_model_GBC = GradientBoostingClassifier().fit(X_train,y_train)\n",
    "predicted= online_troll_model_GBC.predict(X_test)\n",
    "print(\"SVM Accuracy:\",metrics.accuracy_score(y_test, predicted))"
   ]
  },
  {
   "cell_type": "markdown",
   "metadata": {},
   "source": [
    "Not surprisingly, the Gradient Boost model is yet another underperformer.  At this point, a baysian thinker would probably conclude that the naive bayes approach is an effective approach for this problem.\n",
    "\n",
    "\n",
    "##### Ensemble:\n",
    "\n",
    "Finally, we examine an ensemble of all the models tested above.  "
   ]
  },
  {
   "cell_type": "code",
   "execution_count": 27,
   "metadata": {},
   "outputs": [
    {
     "name": "stdout",
     "output_type": "stream",
     "text": [
      "Accuracy: 0.77 [Naive Bayes]\n",
      "Accuracy: 0.83 [Random Forests]\n",
      "Accuracy: 0.70 [KNN]\n",
      "Accuracy: 0.61 [SVM]\n",
      "Accuracy: 0.70 [AdaBoost]\n",
      "Accuracy: 0.71 [GradientBoost]\n",
      "Accuracy: 0.73 [Ensemble]\n"
     ]
    }
   ],
   "source": [
    "from sklearn.ensemble import VotingClassifier\n",
    "from sklearn.model_selection import cross_val_score\n",
    "import warnings \n",
    "\n",
    "warnings.filterwarnings('ignore')  #suppressing a few warnings... \n",
    "\n",
    "#create the models\n",
    "NB = MultinomialNB()\n",
    "RF = RandomForestClassifier()\n",
    "KNN = KNeighborsClassifier()\n",
    "SVM = SVC()\n",
    "ADA = AdaBoostClassifier()\n",
    "GBC = GradientBoostingClassifier()\n",
    "\n",
    "\n",
    "clf = [NB,RF,KNN,SVM,ADA,GBC]\n",
    "\n",
    "eclf = VotingClassifier(estimators=[('Naive Bayes', NB),\n",
    "                                    ('Random Forests', RF),\n",
    "                                    ('KNN', KNN),\n",
    "                                    ('SVM', SVM),\n",
    "                                    ('AdaBoost', ADA),\n",
    "                                    ('GradientBoost', GBC)], voting='hard')\n",
    "\n",
    "scoreDict = {}\n",
    "\n",
    "for clf, label in zip([NB,RF,KNN,SVM,ADA,GBC,eclf], ['Naive Bayes', 'Random Forests','KNN','SVM','AdaBoost','GradientBoost', 'Ensemble']):\n",
    "    scores = cross_val_score(clf, X_train, y_train, cv=10, scoring='accuracy')\n",
    "    scoreDict[label] = scores.mean()\n",
    "    print(\"Accuracy: %0.2f [%s]\" % (scores.mean(), label))\n"
   ]
  },
  {
   "cell_type": "code",
   "execution_count": 31,
   "metadata": {},
   "outputs": [
    {
     "data": {
      "image/png": "[encoded data removed]",
      "text/plain": [
       "<Figure size 432x288 with 1 Axes>"
      ]
     },
     "metadata": {},
     "output_type": "display_data"
    }
   ],
   "source": [
    "import matplotlib.pyplot as plt\n",
    "\n",
    "plt.bar(range(len(scoreDict)), list(scoreDict.values()), align='center')\n",
    "plt.xticks(range(len(scoreDict)), list(scoreDict.keys()),rotation='vertical')\n",
    "\n",
    "plt.show()"
   ]
  },
  {
   "cell_type": "markdown",
   "metadata": {},
   "source": [
    "We can see from the above that the ensemble doesn't add much value here.  In fact, we might want to drop a few of these models altogether in order to try to improve performance.  Next steps here would be to run a GridSearchCV in order to tune the collection of models found here."
   ]
  }
 ],
 "metadata": {
  "kernelspec": {
   "display_name": "Python 3",
   "language": "python",
   "name": "python3"
  },
  "language_info": {
   "codemirror_mode": {
    "name": "ipython",
    "version": 3
   },
   "file_extension": ".py",
   "mimetype": "text/x-python",
   "name": "python",
   "nbconvert_exporter": "python",
   "pygments_lexer": "ipython3",
   "version": "3.6.7"
  }
 },
 "nbformat": 4,
 "nbformat_minor": 2
}
