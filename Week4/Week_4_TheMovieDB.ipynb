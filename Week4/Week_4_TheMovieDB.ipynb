{
 "cells": [
  {
   "cell_type": "markdown",
   "metadata": {},
   "source": [
    "# Week 4 Assignment\n",
    "## Team 1\n",
    "\n",
    "\n",
    "### Problem:\n",
    "Task in this week’s assignment is to identify an interesting set of network data that is available on the web (either through web scraping or web APIs) that could be used for analyzing and comparing centrality measures across nodes.  As an additional constraint, there should be at least one categorical variable available for each node (such as “Male” or “Female”; “Republican”, “Democrat,” or “Undecided”, etc.)\n",
    "\n",
    "In addition to identifying your data source, you should create a high level plan that describes how you would load the data for analysis, and describe a hypothetical outcome that could be predicted from comparing degree centrality across categorical groups.\n",
    "\n",
    "\n",
    "### Data:\n",
    "\n",
    "We decided to use movie data that can be downloaded from https://www.themoviedb.org using their API.  The dataset contains detail information about movies such as top-rated movies, ratings, movies marked as favorite by the users, categories etc.  \n",
    "\n",
    "\n",
    "### Analysis:\n",
    "\n",
    "Our analysis will include selecting a certain genre of movies or a series of popular movies (such all super hero movies) . The nodes of the graph will represent the actors in the movies and highest centrality will be determined by the actor who has the most connections to the different movies. That is, the higher the centrality, the higher the influence of the actor.\n",
    "\n",
    "Based on the gender (actor or actress), we can determine if female or male actors are more influential in popular movies. \n"
   ]
  }
 ],
 "metadata": {
  "kernelspec": {
   "display_name": "Python 3",
   "language": "python",
   "name": "python3"
  },
  "language_info": {
   "codemirror_mode": {
    "name": "ipython",
    "version": 3
   },
   "file_extension": ".py",
   "mimetype": "text/x-python",
   "name": "python",
   "nbconvert_exporter": "python",
   "pygments_lexer": "ipython3",
   "version": "3.6.7"
  }
 },
 "nbformat": 4,
 "nbformat_minor": 2
}
