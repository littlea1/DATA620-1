{
 "cells": [
  {
   "cell_type": "markdown",
   "metadata": {},
   "source": [
    "# Week 4 Assignment\n",
    "## Team 1\n",
    "\n",
    "\n",
    "### Problem:\n",
    "Task in this week’s assignment is to identify an interesting set of network data that is available on the web (either through web scraping or web APIs) that could be used for analyzing and comparing centrality measures across nodes.  As an additional constraint, there should be at least one categorical variable available for each node (such as “Male” or “Female”; “Republican”, “Democrat,” or “Undecided”, etc.)\n",
    "\n",
    "In addition to identifying your data source, you should create a high level plan that describes how you would load the data for analysis, and describe a hypothetical outcome that could be predicted from comparing degree centrality across categorical groups.\n",
    "\n",
    "\n",
    "### Data:\n",
    "\n",
    "We decided to use movie data that can be downloaded from https://www.themoviedb.org using their API.  The dataset contains detail information about movies such as top-rated movies, ratings, movies marked as favorite by the users, categories etc. \n",
    "\n",
    "### Data Collection Example:"
   ]
  },
  {
   "cell_type": "code",
   "execution_count": 18,
   "metadata": {},
   "outputs": [
    {
     "name": "stdout",
     "output_type": "stream",
     "text": [
      "The X-Men Movies:\n",
      "X-Men: Apocalypse | 2016-05-18 | 28.351 | 246655\n",
      "X-Men: Days of Future Past | 2014-05-15 | 26.493 | 127585\n",
      "Dark Phoenix | 2019-06-05 | 13.509 | 320288\n",
      "Wolverine Unleashed: The Complete Origins | 2009-09-15 | 7.273 | 447152\n",
      "X-Men: Reunited | 2014-11-14 | 2.626 | 447161\n",
      "X-Men | 2000-07-13 | 1.218 | 36657\n",
      "X-Men: Pryde of the X-Men | 1989-07-01 | 1.784 | 37713\n",
      "X-Men: The Mutant Watch | 2000-07-02 | 2.954 | 447399\n",
      "X-Men Origins: Wolverine | 2009-04-28 | 2.029 | 2080\n",
      "X2 | 2003-04-24 | 1.116 | 36658\n",
      "X-Men: Unguarded | 2015-07-14 | 1.207 | 447162\n",
      "The New Mutants | 2019-08-01 | 6.424 | 340102\n",
      "X-Men: Apocalypse Unearthed | 2016-11-04 | 1.292 | 447167\n",
      "X-Men | 1993-09-25 | 0.6 | 560583\n",
      "X-Men: Production Scrapbook | 2000-11-02 | 1.435 | 81946\n",
      "Astonishing X-Men: Gifted | 2010-09-28 | 1.4 | 256361\n",
      "X-Men: The Excitement Continues | 2006-10-02 | 1.4 | 447143\n",
      "X-Men: The Uncanny Suspects | 2003-02-11 | 1.4 | 447102\n",
      "X-Men: The Last Stand | 2006-05-24 | 0.966 | 36668\n",
      "X-Men: First Class | 2011-06-01 | 0.893 | 49538\n"
     ]
    }
   ],
   "source": [
    "import tmdbsimple as tmdb\n",
    "\n",
    "localPath = 'C:/Users/Paul/OneDrive - CUNY School of Professional Studies/CUNY/DATA 620/Week4/'\n",
    "\n",
    "#load the API key from a local file for now...\n",
    "with open(localPath+'api_key_v3.txt', 'r') as f:\n",
    "    api_key=f.read().replace('\\n', '')\n",
    "\n",
    "#set key\n",
    "tmdb.API_KEY = api_key\n",
    "\n",
    "#a simple query example\n",
    "s = tmdb.Search()\n",
    "r = s.movie(query='X-Men')\n",
    "\n",
    "print(\"The X-Men Movies:\")\n",
    "for i in s.results:\n",
    "    print(i['title'],\"|\", \n",
    "          i['release_date'],\"|\", \n",
    "          i['popularity'],\"|\",  \n",
    "          i['id'])\n",
    "\n"
   ]
  },
  {
   "cell_type": "markdown",
   "metadata": {},
   "source": [
    "### Analysis:\n",
    "\n",
    "Our analysis will include selecting a certain genre of movies or a series of popular movies (such all super hero movies) . The nodes of the graph will represent the actors in the movies and highest centrality will be determined by the actor who has the most connections to the different movies. That is, the higher the centrality, the higher the influence of the actor.\n",
    "\n",
    "Based on the gender (actor or actress), we can determine if female or male actors are more influential in popular movies. "
   ]
  }
 ],
 "metadata": {
  "kernelspec": {
   "display_name": "Python 3",
   "language": "python",
   "name": "python3"
  },
  "language_info": {
   "codemirror_mode": {
    "name": "ipython",
    "version": 3
   },
   "file_extension": ".py",
   "mimetype": "text/x-python",
   "name": "python",
   "nbconvert_exporter": "python",
   "pygments_lexer": "ipython3",
   "version": "3.6.7"
  }
 },
 "nbformat": 4,
 "nbformat_minor": 2
}
