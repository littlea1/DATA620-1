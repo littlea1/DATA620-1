{
 "cells": [
  {
   "cell_type": "markdown",
   "metadata": {},
   "source": [
    "##### Week 8 Assignment,\n",
    "Data 620,\n",
    "##### Team 1: Jason Givens-Doyle, Mehdi Khan, Paul Britton"
   ]
  },
  {
   "cell_type": "code",
   "execution_count": 1,
   "metadata": {},
   "outputs": [],
   "source": [
    "import nltk\n",
    "from urllib.request import urlopen\n",
    "from nltk.text import Text\n",
    "from nltk.corpus import stopwords\n",
    "import re\n",
    "from bs4 import BeautifulSoup as soup\n",
    "from nltk.probability import FreqDist\n",
    "import matplotlib.pyplot as plt\n",
    "import pandas as pd"
   ]
  },
  {
   "cell_type": "markdown",
   "metadata": {},
   "source": [
    "The first part of the book \"Goldfish\" by Arthur Train was loaded from http://www.fullbooks.com. urlib package was used to open the url using urlopen function and  the entire content of this portion of the book was downloaded with everything in it.  The 'punkt' package from nltk was also downloaded for some language processing operations"
   ]
  },
  {
   "cell_type": "code",
   "execution_count": 2,
   "metadata": {},
   "outputs": [
    {
     "name": "stderr",
     "output_type": "stream",
     "text": [
      "[nltk_data] Downloading package punkt to\n",
      "[nltk_data]     C:\\Users\\Paul\\AppData\\Roaming\\nltk_data...\n",
      "[nltk_data]   Package punkt is already up-to-date!\n",
      "[nltk_data] Downloading package stopwords to\n",
      "[nltk_data]     C:\\Users\\Paul\\AppData\\Roaming\\nltk_data...\n",
      "[nltk_data]   Package stopwords is already up-to-date!\n"
     ]
    },
    {
     "data": {
      "text/plain": [
       "True"
      ]
     },
     "execution_count": 2,
     "metadata": {},
     "output_type": "execute_result"
    }
   ],
   "source": [
    "#url='https://norvig.com/ngrams/shakespeare.txt'\n",
    "url = 'http://www.fullbooks.com/The-Goldfish-1.html'\n",
    "rawText = urlopen(url).read().decode('utf-8')\n",
    "nltk.download('punkt') \n",
    "nltk.download('stopwords')"
   ]
  },
  {
   "cell_type": "markdown",
   "metadata": {},
   "source": [
    "Before any language processes were done the total length of the raw text was counted:"
   ]
  },
  {
   "cell_type": "code",
   "execution_count": 3,
   "metadata": {},
   "outputs": [
    {
     "data": {
      "text/plain": [
       "122906"
      ]
     },
     "execution_count": 3,
     "metadata": {},
     "output_type": "execute_result"
    }
   ],
   "source": [
    "len(rawText)\n"
   ]
  },
  {
   "cell_type": "code",
   "execution_count": 4,
   "metadata": {},
   "outputs": [
    {
     "name": "stdout",
     "output_type": "stream",
     "text": [
      "!DOCTYPE HTML PUBLIC \"-//IETF//DTD HTML//EN\">\r\n",
      "<HTML>\r\n",
      "<HEAD>\r\n",
      "<TITLE>The \"Goldfish\" by Arthur Train - Full Text Free Book (Part 1/4)</TITLE>\r\n",
      "<style fprolloverstyle>A:hover {color: #808000}\r\n",
      "</style>\r\n",
      "</HEAD>\r\n",
      "<BODY BGCOLOR=\"#FFFFFF\" TEXT=\"#000000\" LINK=\"#0000FF\" ALINK=\"#9F5F9F\" VLINK=\"#FF0000\">\r\n",
      "\r\n",
      "\r\n",
      "<div align=\"center\">\r\n",
      "<table border=\"0\" cellpadding=\"2\" width=\"99%\" bgcolor=\"#FFFFFF\">\r\n",
      "<tr><td width=\"100%\">\r\n",
      "\r\n",
      "<center>\r\n",
      "\r\n",
      "<h1><font face=\"Arial\">The \"Goldfish\"<br>by<br>Arthur Train</font></h1>\n"
     ]
    }
   ],
   "source": [
    "print(rawText[1:500])"
   ]
  },
  {
   "cell_type": "markdown",
   "metadata": {},
   "source": [
    "As seen above the Corpus in its raw form includes a lot of html tags, numeric characters, punctuation and meaningless characters, which were removed using Regular Expression and BeautifulSoup package:  "
   ]
  },
  {
   "cell_type": "code",
   "execution_count": 5,
   "metadata": {},
   "outputs": [],
   "source": [
    "cleanWords = soup(rawText).get_text()\n",
    "#re.sub('<.*?>','',rawText)\n",
    "cleanWords = re.sub('[^A-Za-z]+',' ',cleanWords.lower())"
   ]
  },
  {
   "cell_type": "code",
   "execution_count": 6,
   "metadata": {},
   "outputs": [
    {
     "name": "stdout",
     "output_type": "stream",
     "text": [
      " the goldfish by arthur train full text free book part a hover color the goldfish byarthur train part out of fullbooks com homepage index of the goldfish next part google ad client pub google alternat\n"
     ]
    }
   ],
   "source": [
    "print(cleanWords[:200])"
   ]
  },
  {
   "cell_type": "markdown",
   "metadata": {},
   "source": [
    "After cleaning the raw text, the Corpus was tokenized:"
   ]
  },
  {
   "cell_type": "code",
   "execution_count": 7,
   "metadata": {},
   "outputs": [],
   "source": [
    "token_words = nltk.word_tokenize(cleanWords)"
   ]
  },
  {
   "cell_type": "code",
   "execution_count": 8,
   "metadata": {},
   "outputs": [
    {
     "data": {
      "text/plain": [
       "['the',\n",
       " 'goldfish',\n",
       " 'by',\n",
       " 'arthur',\n",
       " 'train',\n",
       " 'full',\n",
       " 'text',\n",
       " 'free',\n",
       " 'book',\n",
       " 'part',\n",
       " 'a',\n",
       " 'hover',\n",
       " 'color',\n",
       " 'the',\n",
       " 'goldfish',\n",
       " 'byarthur',\n",
       " 'train',\n",
       " 'part',\n",
       " 'out',\n",
       " 'of']"
      ]
     },
     "execution_count": 8,
     "metadata": {},
     "output_type": "execute_result"
    }
   ],
   "source": [
    "token_words[:20]"
   ]
  },
  {
   "cell_type": "markdown",
   "metadata": {},
   "source": [
    "At the this point the Corpus was relatively clean but it still includes common words, which would be removed later. The total count of all the unique words at this stage is:"
   ]
  },
  {
   "cell_type": "code",
   "execution_count": 9,
   "metadata": {},
   "outputs": [
    {
     "data": {
      "text/plain": [
       "3882"
      ]
     },
     "execution_count": 9,
     "metadata": {},
     "output_type": "execute_result"
    }
   ],
   "source": [
    "len(set(token_words))"
   ]
  },
  {
   "cell_type": "markdown",
   "metadata": {},
   "source": [
    "After tokenization all the noise, i.e. common words or stop words (such as 'The', 'A', 'am', 'are','is', 'of', 'by', etc.) needed to be removed. A list of english stopwords were created and then those words were filtered out from the word tokens."
   ]
  },
  {
   "cell_type": "code",
   "execution_count": 10,
   "metadata": {},
   "outputs": [],
   "source": [
    "stopWords = set(stopwords.words('english'))"
   ]
  },
  {
   "cell_type": "markdown",
   "metadata": {},
   "source": [
    "Remove stopwords:"
   ]
  },
  {
   "cell_type": "code",
   "execution_count": 11,
   "metadata": {},
   "outputs": [],
   "source": [
    "no_stopwords_token = [w for w in token_words if w not in stopWords]\n"
   ]
  },
  {
   "cell_type": "code",
   "execution_count": 12,
   "metadata": {},
   "outputs": [
    {
     "data": {
      "text/plain": [
       "['arthur',\n",
       " 'train',\n",
       " 'full',\n",
       " 'text',\n",
       " 'free',\n",
       " 'book',\n",
       " 'part',\n",
       " 'hover',\n",
       " 'color',\n",
       " 'goldfish',\n",
       " 'byarthur',\n",
       " 'train',\n",
       " 'part',\n",
       " 'fullbooks',\n",
       " 'com',\n",
       " 'homepage',\n",
       " 'index',\n",
       " 'goldfish',\n",
       " 'next',\n",
       " 'part',\n",
       " 'google',\n",
       " 'ad',\n",
       " 'client',\n",
       " 'pub',\n",
       " 'google',\n",
       " 'alternate',\n",
       " 'ad',\n",
       " 'url',\n",
       " 'http']"
      ]
     },
     "execution_count": 12,
     "metadata": {},
     "output_type": "execute_result"
    }
   ],
   "source": [
    "no_stopwords_token[1:30]"
   ]
  },
  {
   "cell_type": "markdown",
   "metadata": {},
   "source": [
    "After removing the common words, the total number of unique words are:"
   ]
  },
  {
   "cell_type": "code",
   "execution_count": 13,
   "metadata": {},
   "outputs": [
    {
     "data": {
      "text/plain": [
       "3755"
      ]
     },
     "execution_count": 13,
     "metadata": {},
     "output_type": "execute_result"
    }
   ],
   "source": [
    "len(set((no_stopwords_token)))"
   ]
  },
  {
   "cell_type": "markdown",
   "metadata": {},
   "source": [
    "Frquency of the unique words in the final Corpus:"
   ]
  },
  {
   "cell_type": "code",
   "execution_count": 14,
   "metadata": {},
   "outputs": [],
   "source": [
    "fdist = FreqDist(no_stopwords_token)"
   ]
  },
  {
   "cell_type": "code",
   "execution_count": 15,
   "metadata": {},
   "outputs": [
    {
     "data": {
      "text/plain": [
       "FreqDist({'dollars': 95, 'one': 89, 'five': 64, 'hundred': 64, 'would': 59, 'two': 53, 'wife': 49, 'thousand': 49, 'could': 41, 'time': 41, ...})"
      ]
     },
     "execution_count": 15,
     "metadata": {},
     "output_type": "execute_result"
    }
   ],
   "source": [
    "fdist"
   ]
  },
  {
   "cell_type": "markdown",
   "metadata": {},
   "source": [
    "As indicated below 4,865 words represent half of the Corpus. How many unique words would represent the same number of words were also counted below:"
   ]
  },
  {
   "cell_type": "code",
   "execution_count": 16,
   "metadata": {},
   "outputs": [
    {
     "data": {
      "text/plain": [
       "4864.5"
      ]
     },
     "execution_count": 16,
     "metadata": {},
     "output_type": "execute_result"
    }
   ],
   "source": [
    "len(no_stopwords_token)/2"
   ]
  },
  {
   "cell_type": "code",
   "execution_count": 17,
   "metadata": {},
   "outputs": [],
   "source": [
    "words = []\n",
    "val =0\n",
    "sortedFdist = [(k,fdist[k]) for k in sorted(fdist, key=fdist.get, reverse=True)]\n",
    "for key,value in sortedFdist:\n",
    "    val = val + value    \n",
    "    if val < (len(no_stopwords_token)/2):\n",
    "        words.append(key)\n",
    "    if val > (len(no_stopwords_token)/2):\n",
    "        break  "
   ]
  },
  {
   "cell_type": "code",
   "execution_count": 18,
   "metadata": {},
   "outputs": [
    {
     "data": {
      "text/plain": [
       "451"
      ]
     },
     "execution_count": 18,
     "metadata": {},
     "output_type": "execute_result"
    }
   ],
   "source": [
    "len(words)"
   ]
  },
  {
   "cell_type": "markdown",
   "metadata": {},
   "source": [
    "So 451 unique words represent half of the total words in the corpus"
   ]
  },
  {
   "cell_type": "markdown",
   "metadata": {},
   "source": [
    "200 highest frequency words in this corpus:"
   ]
  },
  {
   "cell_type": "code",
   "execution_count": 19,
   "metadata": {},
   "outputs": [],
   "source": [
    "highest_frequency = fdist.most_common(200)"
   ]
  },
  {
   "cell_type": "code",
   "execution_count": 20,
   "metadata": {},
   "outputs": [
    {
     "data": {
      "text/plain": [
       "[('dollars', 95),\n",
       " ('one', 89),\n",
       " ('five', 64),\n",
       " ('hundred', 64),\n",
       " ('would', 59),\n",
       " ('two', 53),\n",
       " ('wife', 49),\n",
       " ('thousand', 49),\n",
       " ('could', 41),\n",
       " ('time', 41),\n",
       " ('man', 39),\n",
       " ('go', 38),\n",
       " ('old', 36),\n",
       " ('men', 36),\n",
       " ('good', 34),\n",
       " ('house', 30),\n",
       " ('fifty', 30),\n",
       " ('years', 30),\n",
       " ('dinner', 30),\n",
       " ('part', 29),\n",
       " ('like', 29),\n",
       " ('yet', 29),\n",
       " ('us', 29),\n",
       " ('even', 27),\n",
       " ('well', 27),\n",
       " ('must', 27),\n",
       " ('new', 27),\n",
       " ('life', 25),\n",
       " ('ten', 25),\n",
       " ('cost', 25),\n",
       " ('year', 25),\n",
       " ('half', 24),\n",
       " ('twenty', 24),\n",
       " ('without', 24),\n",
       " ('way', 23),\n",
       " ('never', 23),\n",
       " ('less', 22),\n",
       " ('say', 22),\n",
       " ('day', 21),\n",
       " ('things', 21),\n",
       " ('get', 20),\n",
       " ('first', 20),\n",
       " ('may', 20),\n",
       " ('fact', 20),\n",
       " ('every', 20),\n",
       " ('people', 20),\n",
       " ('friends', 19),\n",
       " ('thirty', 19),\n",
       " ('much', 19),\n",
       " ('see', 19),\n",
       " ('made', 19),\n",
       " ('home', 19),\n",
       " ('social', 19),\n",
       " ('long', 18),\n",
       " ('success', 18),\n",
       " ('least', 18),\n",
       " ('room', 18),\n",
       " ('give', 18),\n",
       " ('however', 18),\n",
       " ('little', 18),\n",
       " ('society', 18),\n",
       " ('far', 17),\n",
       " ('course', 17),\n",
       " ('daughters', 17),\n",
       " ('matter', 17),\n",
       " ('money', 17),\n",
       " ('nothing', 17),\n",
       " ('evening', 17),\n",
       " ('york', 17),\n",
       " ('three', 17),\n",
       " ('rest', 16),\n",
       " ('anything', 16),\n",
       " ('family', 16),\n",
       " ('know', 16),\n",
       " ('round', 15),\n",
       " ('rather', 15),\n",
       " ('usually', 15),\n",
       " ('make', 15),\n",
       " ('always', 15),\n",
       " ('servants', 15),\n",
       " ('days', 15),\n",
       " ('several', 15),\n",
       " ('order', 14),\n",
       " ('among', 14),\n",
       " ('son', 14),\n",
       " ('take', 14),\n",
       " ('last', 14),\n",
       " ('others', 14),\n",
       " ('pleasure', 14),\n",
       " ('father', 14),\n",
       " ('country', 14),\n",
       " ('night', 14),\n",
       " ('work', 13),\n",
       " ('forty', 13),\n",
       " ('really', 13),\n",
       " ('perhaps', 13),\n",
       " ('living', 13),\n",
       " ('end', 13),\n",
       " ('hour', 13),\n",
       " ('dress', 13),\n",
       " ('also', 13),\n",
       " ('seventy', 13),\n",
       " ('back', 13),\n",
       " ('head', 13),\n",
       " ('costs', 13),\n",
       " ('butler', 13),\n",
       " ('google', 12),\n",
       " ('away', 12),\n",
       " ('still', 12),\n",
       " ('business', 12),\n",
       " ('though', 12),\n",
       " ('reason', 12),\n",
       " ('come', 12),\n",
       " ('going', 12),\n",
       " ('office', 12),\n",
       " ('self', 12),\n",
       " ('feel', 12),\n",
       " ('six', 12),\n",
       " ('fifteen', 12),\n",
       " ('given', 12),\n",
       " ('paris', 12),\n",
       " ('mine', 12),\n",
       " ('valet', 12),\n",
       " ('motor', 12),\n",
       " ('parties', 12),\n",
       " ('sure', 11),\n",
       " ('boy', 11),\n",
       " ('except', 11),\n",
       " ('called', 11),\n",
       " ('amount', 11),\n",
       " ('thought', 11),\n",
       " ('great', 11),\n",
       " ('ladies', 11),\n",
       " ('personal', 11),\n",
       " ('almost', 11),\n",
       " ('clothes', 11),\n",
       " ('total', 11),\n",
       " ('maid', 11),\n",
       " ('charity', 11),\n",
       " ('clock', 11),\n",
       " ('young', 10),\n",
       " ('either', 10),\n",
       " ('might', 10),\n",
       " ('already', 10),\n",
       " ('find', 10),\n",
       " ('worth', 10),\n",
       " ('enough', 10),\n",
       " ('place', 10),\n",
       " ('college', 10),\n",
       " ('pay', 10),\n",
       " ('thing', 10),\n",
       " ('known', 10),\n",
       " ('party', 10),\n",
       " ('hostess', 10),\n",
       " ('full', 9),\n",
       " ('class', 9),\n",
       " ('since', 9),\n",
       " ('physical', 9),\n",
       " ('eyes', 9),\n",
       " ('somewhat', 9),\n",
       " ('gone', 9),\n",
       " ('another', 9),\n",
       " ('satisfaction', 9),\n",
       " ('city', 9),\n",
       " ('opera', 9),\n",
       " ('coffee', 9),\n",
       " ('let', 9),\n",
       " ('sum', 9),\n",
       " ('live', 9),\n",
       " ('better', 9),\n",
       " ('annual', 9),\n",
       " ('eight', 9),\n",
       " ('guests', 9),\n",
       " ('couple', 9),\n",
       " ('keep', 9),\n",
       " ('hours', 9),\n",
       " ('jones', 9),\n",
       " ('host', 9),\n",
       " ('color', 8),\n",
       " ('look', 8),\n",
       " ('children', 8),\n",
       " ('right', 8),\n",
       " ('youth', 8),\n",
       " ('along', 8),\n",
       " ('food', 8),\n",
       " ('obliged', 8),\n",
       " ('came', 8),\n",
       " ('seem', 8),\n",
       " ('getting', 8),\n",
       " ('theater', 8),\n",
       " ('quite', 8),\n",
       " ('left', 8),\n",
       " ('world', 8),\n",
       " ('set', 8),\n",
       " ('spend', 8),\n",
       " ('body', 8),\n",
       " ('silk', 8),\n",
       " ('seven', 8),\n",
       " ('think', 8),\n",
       " ('high', 8)]"
      ]
     },
     "execution_count": 20,
     "metadata": {},
     "output_type": "execute_result"
    }
   ],
   "source": [
    "highest_frequency"
   ]
  },
  {
   "cell_type": "markdown",
   "metadata": {},
   "source": [
    "A graph that shows the relative frequency of these 200 most frequent words:"
   ]
  },
  {
   "cell_type": "code",
   "execution_count": 21,
   "metadata": {},
   "outputs": [
    {
     "data": {
      "image/png": "[encoded data removed]",
      "text/plain": [
       "<Figure size 1440x720 with 1 Axes>"
      ]
     },
     "metadata": {
      "needs_background": "light"
     },
     "output_type": "display_data"
    }
   ],
   "source": [
    "plt.figure(figsize=(20,10))\n",
    "fdist.plot(200,cumulative=False, title= \"200 most frequent words\")\n",
    "plt.show()"
   ]
  },
  {
   "cell_type": "markdown",
   "metadata": {},
   "source": [
    "Another way of plotting the same information depicted in the previous figure:"
   ]
  },
  {
   "cell_type": "code",
   "execution_count": 22,
   "metadata": {},
   "outputs": [
    {
     "data": {
      "text/plain": [
       "<matplotlib.axes._subplots.AxesSubplot at 0x18057536518>"
      ]
     },
     "execution_count": 22,
     "metadata": {},
     "output_type": "execute_result"
    },
    {
     "data": {
      "image/png": "[encoded data removed]",
      "text/plain": [
       "<Figure size 1440x720 with 1 Axes>"
      ]
     },
     "metadata": {
      "needs_background": "light"
     },
     "output_type": "display_data"
    }
   ],
   "source": [
    "high_fqcyDB = pd.DataFrame(highest_frequency)\n",
    "high_fqcyDB.columns = [\"Words\",\"Frequency\"]\n",
    " \n",
    "high_fqcyDB.plot.bar(x='Words',y='Frequency', figsize=(20,10), legend=False)"
   ]
  },
  {
   "cell_type": "markdown",
   "metadata": {},
   "source": [
    "Next we'll take a look at our output as it related to Zipf's law, which states that the frequency of a word should be equal to 1/n where \"n\" is equal to the rank of the word.\n",
    "\n",
    "First we'll set up the data:"
   ]
  },
  {
   "cell_type": "code",
   "execution_count": 23,
   "metadata": {},
   "outputs": [
    {
     "data": {
      "text/html": [
       "<div>\n",
       "<style scoped>\n",
       "    .dataframe tbody tr th:only-of-type {\n",
       "        vertical-align: middle;\n",
       "    }\n",
       "\n",
       "    .dataframe tbody tr th {\n",
       "        vertical-align: top;\n",
       "    }\n",
       "\n",
       "    .dataframe thead th {\n",
       "        text-align: right;\n",
       "    }\n",
       "</style>\n",
       "<table border=\"1\" class=\"dataframe\">\n",
       "  <thead>\n",
       "    <tr style=\"text-align: right;\">\n",
       "      <th></th>\n",
       "      <th>Words</th>\n",
       "      <th>Frequency</th>\n",
       "      <th>rank</th>\n",
       "      <th>relative_Freq</th>\n",
       "      <th>zipf</th>\n",
       "    </tr>\n",
       "  </thead>\n",
       "  <tbody>\n",
       "    <tr>\n",
       "      <th>0</th>\n",
       "      <td>dollars</td>\n",
       "      <td>95</td>\n",
       "      <td>1</td>\n",
       "      <td>0.027810</td>\n",
       "      <td>1.000000</td>\n",
       "    </tr>\n",
       "    <tr>\n",
       "      <th>1</th>\n",
       "      <td>one</td>\n",
       "      <td>89</td>\n",
       "      <td>2</td>\n",
       "      <td>0.026054</td>\n",
       "      <td>0.500000</td>\n",
       "    </tr>\n",
       "    <tr>\n",
       "      <th>2</th>\n",
       "      <td>five</td>\n",
       "      <td>64</td>\n",
       "      <td>3</td>\n",
       "      <td>0.018735</td>\n",
       "      <td>0.333333</td>\n",
       "    </tr>\n",
       "    <tr>\n",
       "      <th>3</th>\n",
       "      <td>hundred</td>\n",
       "      <td>64</td>\n",
       "      <td>4</td>\n",
       "      <td>0.018735</td>\n",
       "      <td>0.250000</td>\n",
       "    </tr>\n",
       "    <tr>\n",
       "      <th>4</th>\n",
       "      <td>would</td>\n",
       "      <td>59</td>\n",
       "      <td>5</td>\n",
       "      <td>0.017272</td>\n",
       "      <td>0.200000</td>\n",
       "    </tr>\n",
       "    <tr>\n",
       "      <th>5</th>\n",
       "      <td>two</td>\n",
       "      <td>53</td>\n",
       "      <td>6</td>\n",
       "      <td>0.015515</td>\n",
       "      <td>0.166667</td>\n",
       "    </tr>\n",
       "    <tr>\n",
       "      <th>6</th>\n",
       "      <td>wife</td>\n",
       "      <td>49</td>\n",
       "      <td>7</td>\n",
       "      <td>0.014344</td>\n",
       "      <td>0.142857</td>\n",
       "    </tr>\n",
       "    <tr>\n",
       "      <th>7</th>\n",
       "      <td>thousand</td>\n",
       "      <td>49</td>\n",
       "      <td>8</td>\n",
       "      <td>0.014344</td>\n",
       "      <td>0.125000</td>\n",
       "    </tr>\n",
       "    <tr>\n",
       "      <th>8</th>\n",
       "      <td>could</td>\n",
       "      <td>41</td>\n",
       "      <td>9</td>\n",
       "      <td>0.012002</td>\n",
       "      <td>0.111111</td>\n",
       "    </tr>\n",
       "    <tr>\n",
       "      <th>9</th>\n",
       "      <td>time</td>\n",
       "      <td>41</td>\n",
       "      <td>10</td>\n",
       "      <td>0.012002</td>\n",
       "      <td>0.100000</td>\n",
       "    </tr>\n",
       "  </tbody>\n",
       "</table>\n",
       "</div>"
      ],
      "text/plain": [
       "      Words  Frequency  rank  relative_Freq      zipf\n",
       "0   dollars         95     1       0.027810  1.000000\n",
       "1       one         89     2       0.026054  0.500000\n",
       "2      five         64     3       0.018735  0.333333\n",
       "3   hundred         64     4       0.018735  0.250000\n",
       "4     would         59     5       0.017272  0.200000\n",
       "5       two         53     6       0.015515  0.166667\n",
       "6      wife         49     7       0.014344  0.142857\n",
       "7  thousand         49     8       0.014344  0.125000\n",
       "8     could         41     9       0.012002  0.111111\n",
       "9      time         41    10       0.012002  0.100000"
      ]
     },
     "execution_count": 23,
     "metadata": {},
     "output_type": "execute_result"
    }
   ],
   "source": [
    "zipf = high_fqcyDB\n",
    "\n",
    "#add the required columns\n",
    "zipf['rank'] = zipf.index.values+1\n",
    "zipf['relative_Freq'] = zipf['Frequency'] / zipf['Frequency'].sum(axis=0)\n",
    "zipf['zipf'] = 1/zipf['rank']\n",
    "zipf.head(10)"
   ]
  },
  {
   "cell_type": "code",
   "execution_count": 24,
   "metadata": {},
   "outputs": [
    {
     "data": {
      "image/png": "[encoded data removed]",
      "text/plain": [
       "<Figure size 1440x720 with 1 Axes>"
      ]
     },
     "metadata": {
      "needs_background": "light"
     },
     "output_type": "display_data"
    }
   ],
   "source": [
    "zipf[['relative_Freq','zipf']].plot(title=\"Zipf's Law\",figsize=(20,10))\n",
    "plt.yscale('log')\n",
    "plt.ylabel('Frequency (Log)')\n",
    "plt.xlabel('N')\n",
    "plt.show()"
   ]
  },
  {
   "cell_type": "markdown",
   "metadata": {},
   "source": [
    "When we plot the relative frequency of the data vs. where Zipf's law says it should be, we see that our data is consistently under the curve.  The most frequent words do not occur with the same frequency (particularly the most popular words) as the should according to Zipf's law.\n",
    "\n",
    "In terms of how representative this data is of \"all words in all corpora\", we suspect that it is not particularly representative.  First of all, this particular text was published at the begninning of the 20th century, and as such, the lexicon may be different from more contemporary and voluminous content.  Words go in and out of fashion and can change meaning - many new words will have also come into existence since the creation of this text.\n",
    "\n",
    "This text also represents very niche subject matter - success and extreme wealth in the early 1900s.  We see this in the most frequent words being money-related.  \n",
    "\n",
    "Thirdly, if Zipf's law generally tends to hold, then the fact that it does not hold here suggests that this text may be an abberation from the norm.  \n",
    "\n",
    "For these three reasons, we suspect that this text is likely not representative of all texts everywhere.\n"
   ]
  }
 ],
 "metadata": {
  "kernelspec": {
   "display_name": "Python 3",
   "language": "python",
   "name": "python3"
  },
  "language_info": {
   "codemirror_mode": {
    "name": "ipython",
    "version": 3
   },
   "file_extension": ".py",
   "mimetype": "text/x-python",
   "name": "python",
   "nbconvert_exporter": "python",
   "pygments_lexer": "ipython3",
   "version": "3.6.8"
  }
 },
 "nbformat": 4,
 "nbformat_minor": 2
}
