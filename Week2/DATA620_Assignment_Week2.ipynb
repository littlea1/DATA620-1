{
 "cells": [
  {
   "attachments": {},
   "cell_type": "markdown",
   "metadata": {},
   "source": [
    "# DATA620 Assignment Week2 - Hello Graph World!\n",
    "\n",
    "## Paul Britton\n",
    "## 2019-02-10\n",
    "\n",
    "\n",
    "The assignment this week is to recreate the following graph using a graphing package of our choosing.  I chose networkX and tried to keep things simple as this is my first foray into network analytics.\n",
    "\n",
    "![Assignment Task](https://raw.githubusercontent.com/plb2018/data620/master/Week2/620_week2.PNG)\n",
    "\n",
    "First we'll load the required libraries.  We're only using networkX and pyplot for this task"
   ]
  },
  {
   "cell_type": "code",
   "execution_count": 6,
   "metadata": {},
   "outputs": [],
   "source": [
    "#import required libraries\n",
    "import networkx as nx\n",
    "import matplotlib.pyplot as plt"
   ]
  },
  {
   "cell_type": "markdown",
   "metadata": {},
   "source": [
    "Next we'll prepare everything that we need to create the plot:  nodes, edges and position information.  For this task, I decided to explicitly state everthing with the goal of making it easier for me to mess around with.  I just visually collected all of this information from the image in the assignment.  "
   ]
  },
  {
   "cell_type": "code",
   "execution_count": 7,
   "metadata": {},
   "outputs": [],
   "source": [
    "#prepare the data - nodes, edges and coordinates\n",
    "\n",
    "nodes = [\"Andre\",\"Beverly\",\"Carol\",\"Diane\",\"Ed\",\"Fernando\",\"Garth\",\"Heather\",\"Ike\",\"Jane\"]\n",
    "\n",
    "edges = [('Andre','Carol'),('Andre','Carol'),('Andre','Diane'),\n",
    "         ('Andre','Fernando'),('Beverly','Andre'),('Beverly','Fernando'),\n",
    "         ('Beverly','Diane'),('Beverly','Ed'),('Beverly','Garth'),('Carol','Andre'),\n",
    "         ('Carol','Diane'),('Carol','Fernando'),('Fernando','Garth'),\n",
    "         ('Fernando','Diane'),('Fernando','Carol'),('Garth','Ed'),\n",
    "         ('Garth','Diane'),('Garth','Fernando'),('Garth','Heather'),\n",
    "         ('Ed','Beverly'),('Ed','Diane'),('Ed','Garth'),('Heather','Fernando'),\n",
    "         ('Heather','Garth'),('Heather','Ike'),('Ike','Heather'),\n",
    "         ('Ike','Jane'),('Jane','Ike')]\n",
    "\n",
    "#coordinates for nodes\n",
    "pos={'Andre':(0,1),\n",
    "     'Beverly':(0,-1),\n",
    "     'Carol':(1,2),\n",
    "     'Diane':(1,0),\n",
    "     'Ed':(1,-2),\n",
    "     'Fernando':(2,1),\n",
    "     'Garth':(2,-1),\n",
    "     'Heather':(3,0),\n",
    "     'Ike':(4,0),\n",
    "     'Jane':(5,0)}"
   ]
  },
  {
   "cell_type": "markdown",
   "metadata": {},
   "source": [
    "Now we'll create the graph and add the nodes and edges from the lists create above and display them to make sure that everything worked as planned"
   ]
  },
  {
   "cell_type": "code",
   "execution_count": 13,
   "metadata": {},
   "outputs": [
    {
     "name": "stdout",
     "output_type": "stream",
     "text": [
      "Printing Nodes:\n",
      "0 Andre\n",
      "1 Beverly\n",
      "2 Carol\n",
      "3 Diane\n",
      "4 Ed\n",
      "5 Fernando\n",
      "6 Garth\n",
      "7 Heather\n",
      "8 Ike\n",
      "9 Jane\n",
      "\n",
      "\n",
      "Printing Edges:\n",
      "0 ('Andre', 'Carol')\n",
      "1 ('Andre', 'Diane')\n",
      "2 ('Andre', 'Fernando')\n",
      "3 ('Andre', 'Beverly')\n",
      "4 ('Beverly', 'Fernando')\n",
      "5 ('Beverly', 'Diane')\n",
      "6 ('Beverly', 'Ed')\n",
      "7 ('Beverly', 'Garth')\n",
      "8 ('Carol', 'Diane')\n",
      "9 ('Carol', 'Fernando')\n",
      "10 ('Diane', 'Fernando')\n",
      "11 ('Diane', 'Garth')\n",
      "12 ('Diane', 'Ed')\n",
      "13 ('Ed', 'Garth')\n",
      "14 ('Fernando', 'Garth')\n",
      "15 ('Fernando', 'Heather')\n",
      "16 ('Garth', 'Heather')\n",
      "17 ('Heather', 'Ike')\n",
      "18 ('Ike', 'Jane')\n"
     ]
    }
   ],
   "source": [
    "#create the graph\n",
    "G=nx.Graph()\n",
    "G.add_nodes_from(nodes)\n",
    "G.add_edges_from(edges)\n",
    "\n",
    "#check nodes and edges\n",
    "print(\"Printing Nodes:\")\n",
    "for i,node in enumerate(G.nodes()):\n",
    "    print(i,node)\n",
    "print(\"\\n\")\n",
    "    \n",
    "print(\"Printing Edges:\")\n",
    "for i,edge in enumerate(G.edges()):\n",
    "    print(i,edge)\n",
    "    \n",
    "#print(\"NODES\",G.nodes())\n",
    "#print(\"EDGES\", G.edges())\n"
   ]
  },
  {
   "cell_type": "markdown",
   "metadata": {},
   "source": [
    "Everything looks good!  Now we can draw and display the graph"
   ]
  },
  {
   "cell_type": "code",
   "execution_count": 9,
   "metadata": {},
   "outputs": [
    {
     "data": {
      "image/png": "[encoded data removed]",
      "text/plain": [
       "<Figure size 432x288 with 1 Axes>"
      ]
     },
     "metadata": {},
     "output_type": "display_data"
    }
   ],
   "source": [
    "#draw and show the graph\n",
    "\n",
    "nx.draw_networkx_nodes(G,pos,node_size=800, node_color='silver')\n",
    "nx.draw_networkx_edges(G,pos,alpha=0.5,width=5,edge_color='m')\n",
    "nx.draw_networkx_labels(G,pos,font_size=10,font_weight=\"bold\")\n",
    "\n",
    "#fix the margins\n",
    "plt.tight_layout()\n",
    "\n",
    "#turn off the axis\n",
    "plt.axis('off')\n",
    "\n",
    "#display the graph\n",
    "plt.show()"
   ]
  },
  {
   "cell_type": "markdown",
   "metadata": {},
   "source": [
    "As we can see above, I was able to recreate the graph as per the assignment instructions."
   ]
  }
 ],
 "metadata": {
  "kernelspec": {
   "display_name": "Python 3",
   "language": "python",
   "name": "python3"
  },
  "language_info": {
   "codemirror_mode": {
    "name": "ipython",
    "version": 3
   },
   "file_extension": ".py",
   "mimetype": "text/x-python",
   "name": "python",
   "nbconvert_exporter": "python",
   "pygments_lexer": "ipython3",
   "version": "3.6.7"
  }
 },
 "nbformat": 4,
 "nbformat_minor": 2
}
