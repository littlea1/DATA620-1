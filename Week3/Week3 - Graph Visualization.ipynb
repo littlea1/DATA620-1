{
 "cells": [
  {
   "cell_type": "markdown",
   "metadata": {},
   "source": [
    "# DATA 620 - Week 3\n",
    "\n",
    "The task this week is to \n",
    "1.  Load a graph of your choosing from a text file or other source into a graph database or NetworkX.\n",
    "2.  Create basic analysis on the graph, including the graph’s diameter, and at least one other metric of your choosing.\n",
    "3.  Use a visualization tool of your choice ( NetworkX, Neo4j, Gephi, etc.) to display information.\n",
    "4.  Record a short video (~ 5 minutes), and submit a link to the video in advance of our meet-up.\n",
    "\n",
    "\n",
    "For this task I've chosen to work with a subset of the latest movielense data.\n",
    "\n",
    "First, we'll set do some setup:"
   ]
  },
  {
   "cell_type": "code",
   "execution_count": null,
   "metadata": {},
   "outputs": [],
   "source": [
    "import pandas as pd\n",
    "import networkx as nx\n",
    "import matplotlib.pyplot as plt\n",
    "\n",
    "path = 'C:/Users/Paul/OneDrive - CUNY School of Professional Studies/CUNY/DATA 620/Week3/ml-latest-small/'\n",
    "numRows = 20  #the number of rows we'll work with. "
   ]
  },
  {
   "cell_type": "markdown",
   "metadata": {},
   "source": [
    "Next, we'll do a bit of data wangling.  I was read a little bit about (Adjacency Lists)[https://networkx.github.io/documentation/networkx-1.10/reference/readwrite.adjlist.html] and I figured that it could be a usefule way to work in this class (particularly to facilitate data-sharing in the HW team context) so I figured that I would start there.\n",
    "\n",
    "In the Movielense data, the \"movies.csv\" file "
   ]
  },
  {
   "cell_type": "code",
   "execution_count": 129,
   "metadata": {},
   "outputs": [
    {
     "name": "stdout",
     "output_type": "stream",
     "text": [
      "0    Toy Story (1995)|Adventure|Animation|Children|...\n",
      "1            Jumanji (1995)|Adventure|Children|Fantasy\n",
      "2               Grumpier Old Men (1995)|Comedy|Romance\n",
      "3        Waiting to Exhale (1995)|Comedy|Drama|Romance\n",
      "4            Father of the Bride Part II (1995)|Comedy\n",
      "Name: adjList, dtype: object\n"
     ]
    }
   ],
   "source": [
    "#first we load and subset the data\n",
    "movies = pd.read_csv(path+'movies.csv')\n",
    "movies = movies.head(numRows)\n",
    "\n",
    "#create the adjacency list\n",
    "movies[\"adjList\"] = movies[\"title\"].astype(str)+'|'+movies[\"genres\"]\n",
    "adjList = movies.adjList\n",
    "\n",
    "adjList.to_csv(path+'adj.csv',index=False)\n",
    "\n",
    "print(movies[\"adjList\"].head(5))"
   ]
  },
  {
   "cell_type": "code",
   "execution_count": 131,
   "metadata": {},
   "outputs": [
    {
     "name": "stdout",
     "output_type": "stream",
     "text": [
      "<class 'str'>\n",
      "Toy Story (1995)|Adventure|Animation|Children|Comedy|Fantasy\n",
      "Printing Nodes:\n",
      "0 Toy Story (1995)\n",
      "1 Adventure\n",
      "2 Animation\n",
      "3 Children\n",
      "4 Comedy\n",
      "5 Fantasy\n",
      "6 Jumanji (1995)\n",
      "7 Grumpier Old Men (1995)\n",
      "8 Romance\n",
      "9 Waiting to Exhale (1995)\n",
      "10 Drama\n",
      "11 Father of the Bride Part II (1995)\n",
      "12 Heat (1995)\n",
      "13 Action\n",
      "14 Crime\n",
      "15 Thriller\n",
      "16 Sabrina (1995)\n",
      "17 Tom and Huck (1995)\n",
      "18 Sudden Death (1995)\n",
      "19 GoldenEye (1995)\n",
      "20 \"American President, The (1995)\n",
      "21 Romance\"\n",
      "22 Dracula: Dead and Loving It (1995)\n",
      "23 Horror\n",
      "24 Balto (1995)\n",
      "25 Nixon (1995)\n",
      "26 Cutthroat Island (1995)\n",
      "27 Casino (1995)\n",
      "28 Sense and Sensibility (1995)\n",
      "29 Four Rooms (1995)\n",
      "30 Ace Ventura: When Nature Calls (1995)\n",
      "31 Money Train (1995)\n",
      "\n",
      "\n",
      "Printing Edges:\n",
      "0 ('Toy Story (1995)', 'Adventure')\n",
      "1 ('Toy Story (1995)', 'Animation')\n",
      "2 ('Toy Story (1995)', 'Children')\n",
      "3 ('Toy Story (1995)', 'Comedy')\n",
      "4 ('Toy Story (1995)', 'Fantasy')\n",
      "5 ('Adventure', 'Jumanji (1995)')\n",
      "6 ('Adventure', 'Tom and Huck (1995)')\n",
      "7 ('Adventure', 'GoldenEye (1995)')\n",
      "8 ('Adventure', 'Balto (1995)')\n",
      "9 ('Adventure', 'Cutthroat Island (1995)')\n",
      "10 ('Animation', 'Balto (1995)')\n",
      "11 ('Children', 'Jumanji (1995)')\n",
      "12 ('Children', 'Tom and Huck (1995)')\n",
      "13 ('Children', 'Balto (1995)')\n",
      "14 ('Comedy', 'Grumpier Old Men (1995)')\n",
      "15 ('Comedy', 'Waiting to Exhale (1995)')\n",
      "16 ('Comedy', 'Father of the Bride Part II (1995)')\n",
      "17 ('Comedy', 'Sabrina (1995)')\n",
      "18 ('Comedy', '\"American President, The (1995)')\n",
      "19 ('Comedy', 'Dracula: Dead and Loving It (1995)')\n",
      "20 ('Comedy', 'Four Rooms (1995)')\n",
      "21 ('Comedy', 'Ace Ventura: When Nature Calls (1995)')\n",
      "22 ('Comedy', 'Money Train (1995)')\n",
      "23 ('Fantasy', 'Jumanji (1995)')\n",
      "24 ('Grumpier Old Men (1995)', 'Romance')\n",
      "25 ('Romance', 'Waiting to Exhale (1995)')\n",
      "26 ('Romance', 'Sabrina (1995)')\n",
      "27 ('Romance', 'Cutthroat Island (1995)')\n",
      "28 ('Romance', 'Sense and Sensibility (1995)')\n",
      "29 ('Waiting to Exhale (1995)', 'Drama')\n",
      "30 ('Drama', '\"American President, The (1995)')\n",
      "31 ('Drama', 'Nixon (1995)')\n",
      "32 ('Drama', 'Casino (1995)')\n",
      "33 ('Drama', 'Sense and Sensibility (1995)')\n",
      "34 ('Drama', 'Money Train (1995)')\n",
      "35 ('Heat (1995)', 'Action')\n",
      "36 ('Heat (1995)', 'Crime')\n",
      "37 ('Heat (1995)', 'Thriller')\n",
      "38 ('Action', 'Sudden Death (1995)')\n",
      "39 ('Action', 'GoldenEye (1995)')\n",
      "40 ('Action', 'Cutthroat Island (1995)')\n",
      "41 ('Action', 'Money Train (1995)')\n",
      "42 ('Crime', 'Casino (1995)')\n",
      "43 ('Crime', 'Money Train (1995)')\n",
      "44 ('Thriller', 'GoldenEye (1995)')\n",
      "45 ('Thriller', 'Money Train (1995)')\n",
      "46 ('\"American President, The (1995)', 'Romance\"')\n",
      "47 ('Dracula: Dead and Loving It (1995)', 'Horror')\n"
     ]
    }
   ],
   "source": [
    "#print(movies.title.values)\n",
    "\n",
    "print(type(adjList[0]))\n",
    "print(adjList[0])\n",
    "\n",
    "G=nx.read_adjlist(path+'adj.csv',delimiter='|')\n",
    "\n",
    "\n",
    "#check nodes and edges\n",
    "print(\"Printing Nodes:\")\n",
    "for i,node in enumerate(G.nodes()):\n",
    "    print(i,node)\n",
    "print(\"\\n\")\n",
    "    \n",
    "print(\"Printing Edges:\")\n",
    "for i,edge in enumerate(G.edges()):\n",
    "    print(i,edge)\n"
   ]
  },
  {
   "cell_type": "code",
   "execution_count": 132,
   "metadata": {},
   "outputs": [
    {
     "data": {
      "image/png": "[encoded data removed]",
      "text/plain": [
       "<Figure size 432x288 with 1 Axes>"
      ]
     },
     "metadata": {},
     "output_type": "display_data"
    }
   ],
   "source": [
    "#draw and show the graph\n",
    "\n",
    "#nx.draw_networkx_nodes(G,node_size=800, node_color='silver')\n",
    "#nx.draw_networkx_edges(G,alpha=0.5,width=5,edge_color='m')\n",
    "#nx.draw_networkx_labels(G,font_size=10,font_weight=\"bold\")\n",
    "\n",
    "nx.draw_networkx(G,with_labels=False,node_size=250,node_color='silver',alpha=0.5)\n",
    "\n",
    "\n",
    "#fix the margins\n",
    "plt.tight_layout()\n",
    "\n",
    "#turn off the axis\n",
    "plt.axis('off')\n",
    "\n",
    "#display the graph\n",
    "plt.show()"
   ]
  },
  {
   "cell_type": "code",
   "execution_count": 134,
   "metadata": {},
   "outputs": [
    {
     "name": "stdout",
     "output_type": "stream",
     "text": [
      "6\n"
     ]
    }
   ],
   "source": [
    "d = nx.diameter(G)\n",
    "print(d)"
   ]
  },
  {
   "cell_type": "code",
   "execution_count": null,
   "metadata": {},
   "outputs": [],
   "source": []
  }
 ],
 "metadata": {
  "kernelspec": {
   "display_name": "Python 3",
   "language": "python",
   "name": "python3"
  },
  "language_info": {
   "codemirror_mode": {
    "name": "ipython",
    "version": 3
   },
   "file_extension": ".py",
   "mimetype": "text/x-python",
   "name": "python",
   "nbconvert_exporter": "python",
   "pygments_lexer": "ipython3",
   "version": "3.6.7"
  }
 },
 "nbformat": 4,
 "nbformat_minor": 2
}
